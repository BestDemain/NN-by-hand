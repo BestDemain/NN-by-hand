{
 "cells": [
  {
   "cell_type": "markdown",
   "metadata": {},
   "source": [
    "# 三层神经网络实验报告"
   ]
  },
  {
   "cell_type": "markdown",
   "metadata": {},
   "source": [
    "## 1. 实验概述\n",
    "\n",
    "本实验实现了一个三层神经网络模型，用于CIFAR-10图像分类任务。实验的主要目标是：\n",
    "\n",
    "1. 从零开始实现一个三层神经网络\n",
    "2. 在CIFAR-10数据集上训练和评估模型\n",
    "3. 可视化训练过程和模型参数\n",
    "4. 分析模型性能和参数特征"
   ]
  },
  {
   "cell_type": "markdown",
   "metadata": {},
   "source": [
    "## 2. 导入必要的库"
   ]
  },
  {
   "cell_type": "code",
   "execution_count": null,
   "metadata": {},
   "outputs": [],
   "source": [
    "import os\n",
    "import numpy as np\n",
    "import matplotlib.pyplot as plt\n",
    "import sys\n",
    "\n",
    "from model import ThreeLayerNet\n",
    "from losses import get_loss\n",
    "from optimizer import get_optimizer, get_scheduler\n",
    "from train import train_model\n",
    "from evaluation import load_and_test, evaluate_model_classes\n",
    "from utils import download_cifar10, load_cifar10, preprocess_data, visualize_sample, plot_training_history\n",
    "from config import DEFAULT_CONFIG, SEARCH_CONFIG, CIFAR10_CLASSES\n",
    "from visualize_weights import visualize_weights, visualize_weight_distributions"
   ]
  },
  {
   "cell_type": "markdown",
   "metadata": {},
   "source": [
    "## 3. 模型架构介绍\n",
    "\n",
    "本实验实现的是一个三层神经网络，包括：\n",
    "\n",
    "- **输入层**：接收CIFAR-10图像数据，维度为3072（32×32×3）\n",
    "- **第一隐藏层**：默认包含512个神经元，使用ReLU激活函数\n",
    "- **第二隐藏层**：默认包含256个神经元，使用ReLU激活函数\n",
    "- **输出层**：包含10个神经元（对应CIFAR-10的10个类别），使用Softmax激活函数\n",
    "\n",
    "模型的前向传播过程如下：\n",
    "\n",
    "1. 输入层接收图像数据 X\n",
    "2. 第一隐藏层计算：$Z_1 = X \\cdot W_1 + b_1$，然后应用激活函数：$A_1 = ReLU(Z_1)$\n",
    "3. 第二隐藏层计算：$Z_2 = A_1 \\cdot W_2 + b_2$，然后应用激活函数：$A_2 = ReLU(Z_2)$\n",
    "4. 输出层计算：$Z_3 = A_2 \\cdot W_3 + b_3$，然后应用激活函数：$A_3 = Softmax(Z_3)$\n",
    "\n",
    "模型使用交叉熵损失函数，并通过反向传播算法计算梯度，使用随机梯度下降（SGD）优化器更新参数。"
   ]
  },
  {
   "cell_type": "markdown",
   "metadata": {},
   "source": [
    "## 4. 数据集介绍\n",
    "\n",
    "CIFAR-10是一个包含60,000张32×32彩色图像的数据集，分为10个类别，每个类别6,000张图像。数据集分为50,000张训练图像和10,000张测试图像。\n",
    "\n",
    "10个类别分别是：飞机、汽车、鸟、猫、鹿、狗、青蛙、马、船和卡车。\n",
    "\n",
    "在本实验中，我们将训练集进一步分为训练集和验证集，比例为9:1。"
   ]
  },
  {
   "cell_type": "code",
   "execution_count": null,
   "metadata": {},
   "outputs": [],
   "source": [
    "# 加载CIFAR-10数据集\n",
    "data_dir = 'data'\n",
    "X_train, y_train, X_test, y_test = load_cifar10(os.path.join(data_dir, 'cifar-10-batches-py'))\n",
    "X_train, y_train, X_val, y_val, X_test, y_test = preprocess_data(X_train, y_train, X_test, y_test)\n",
    "\n",
    "# 显示数据集信息\n",
    "print(f'训练集大小: {X_train.shape[0]} 样本')\n",
    "print(f'验证集大小: {X_val.shape[0]} 样本')\n",
    "print(f'测试集大小: {X_test.shape[0]} 样本')\n",
    "print(f'图像维度: {X_train.shape[1]} 特征')"
   ]
  },
  {
   "cell_type": "code",
   "execution_count": null,
   "metadata": {},
   "outputs": [],
   "source": [
    "# 可视化数据集样本\n",
    "visualize_sample(X_train[:25], y_train[:25], CIFAR10_CLASSES)"
   ]
  },
  {
   "cell_type": "markdown",
   "metadata": {},
   "source": [
    "## 5. 超参数设置\n",
    "\n",
    "本实验使用的默认超参数设置如下："
   ]
  },
  {
   "cell_type": "code",
   "execution_count": null,
   "metadata": {},
   "outputs": [],
   "source": [
    "# 显示默认超参数设置\n",
    "for key, value in DEFAULT_CONFIG.items():\n",
    "    if key not in ['input_size', 'output_size', 'data_dir', 'model_dir', 'results_dir']:\n",
    "        print(f'{key}: {value}')"
   ]
  },
  {
   "cell_type": "markdown",
   "metadata": {},
   "source": [
    "## 6. 模型训练与评估\n",
    "\n",
    "下面我们将使用默认配置训练模型，并记录训练过程中的损失和准确率。"
   ]
  },
  {
   "cell_type": "code",
   "execution_count": null,
   "metadata": {},
   "outputs": [],
   "source": [
    "# 创建训练配置\n",
    "config = DEFAULT_CONFIG.copy()\n",
    "config.update({\n",
    "    'X_train': X_train,\n",
    "    'y_train': y_train,\n",
    "    'X_val': X_val,\n",
    "    'y_val': y_val,\n",
    "    'epochs': 25  # 可以根据需要调整训练轮数\n",
    "})\n",
    "\n",
    "# 训练模型\n",
    "print('开始训练模型...')\n",
    "model, history = train_model(config)\n",
    "print('模型训练完成！')"
   ]
  },
  {
   "cell_type": "markdown",
   "metadata": {},
   "source": [
    "## 7. 训练过程可视化\n",
    "\n",
    "### 7.1 训练集和验证集上的损失曲线"
   ]
  },
  {
   "cell_type": "code",
   "execution_count": null,
   "metadata": {},
   "outputs": [],
   "source": [
    "# 绘制损失曲线\n",
    "plt.figure(figsize=(10, 5))\n",
    "plt.plot(history['train_loss'], label='训练集损失')\n",
    "plt.plot(history['val_loss'], label='验证集损失')\n",
    "plt.xlabel('轮数 (Epoch)')\n",
    "plt.ylabel('损失 (Loss)')\n",
    "plt.legend()\n",
    "plt.title('训练过程中的损失曲线')\n",
    "plt.grid(True)\n",
    "plt.show()"
   ]
  },
  {
   "cell_type": "markdown",
   "metadata": {},
   "source": [
    "### 7.2 训练集和验证集上的准确率曲线"
   ]
  },
  {
   "cell_type": "code",
   "execution_count": null,
   "metadata": {},
   "outputs": [],
   "source": [
    "# 绘制准确率曲线\n",
    "plt.figure(figsize=(10, 5))\n",
    "plt.plot(history['train_acc'], label='训练集准确率')\n",
    "plt.plot(history['val_acc'], label='验证集准确率')\n",
    "plt.xlabel('轮数 (Epoch)')\n",
    "plt.ylabel('准确率 (Accuracy)')\n",
    "plt.legend()\n",
    "plt.title('训练过程中的准确率曲线')\n",
    "plt.grid(True)\n",
    "plt.show()"
   ]
  },
  {
   "cell_type": "markdown",
   "metadata": {},
   "source": [
    "### 7.3 学习率变化曲线"
   ]
  },
  {
   "cell_type": "code",
   "execution_count": null,
   "metadata": {},
   "outputs": [],
   "source": [
    "# 绘制学习率变化曲线\n",
    "plt.figure(figsize=(10, 5))\n",
    "plt.plot(history['lr'])\n",
    "plt.xlabel('轮数 (Epoch)')\n",
    "plt.ylabel('学习率 (Learning Rate)')\n",
    "plt.title('训练过程中的学习率变化')\n",
    "plt.grid(True)\n",
    "plt.show()"
   ]
  },
  {
   "cell_type": "markdown",
   "metadata": {},
   "source": [
    "## 8. 模型在测试集上的性能"
   ]
  },
  {
   "cell_type": "code",
   "execution_count": null,
   "metadata": {},
   "outputs": [],
   "source": [
    "# 在测试集上评估模型\n",
    "y_pred = model.predict(X_test)\n",
    "test_acc = np.mean(y_pred == y_test)\n",
    "print(f'测试集准确率: {test_acc:.4f}')"
   ]
  },
  {
   "cell_type": "code",
   "execution_count": null,
   "metadata": {},
   "outputs": [],
   "source": [
    "# 评估模型在各个类别上的性能\n",
    "class_accuracies = evaluate_model_classes(model, X_test, y_test, CIFAR10_CLASSES)\n",
    "\n",
    "# 绘制各类别准确率\n",
    "plt.figure(figsize=(12, 6))\n",
    "plt.bar(CIFAR10_CLASSES, class_accuracies)\n",
    "plt.xlabel('类别')\n",
    "plt.ylabel('准确率')\n",
    "plt.title('模型在各个类别上的准确率')\n",
    "plt.xticks(rotation=45)\n",
    "plt.grid(axis='y')\n",
    "plt.tight_layout()\n",
    "plt.show()"
   ]
  },
  {
   "cell_type": "markdown",
   "metadata": {},
   "source": [
    "## 9. 模型参数可视化\n",
    "\n",
    "### 9.1 第一层权重可视化\n",
    "\n",
    "第一层权重可以重塑为图像形状，直观地展示模型学习到的特征。"
   ]
  },
  {
   "cell_type": "code",
   "execution_count": null,
   "metadata": {},
   "outputs": [],
   "source": [
    "# 可视化第一层权重\n",
    "visualize_weights(model, layer='W1', num_neurons=25)"
   ]
  },
  {
   "cell_type": "markdown",
   "metadata": {},
   "source": [
    "### 9.2 各层权重分布可视化\n",
    "\n",
    "通过观察各层权重的分布，可以了解模型参数的统计特性。"
   ]
  },
  {
   "cell_type": "code",
   "execution_count": null,
   "metadata": {},
   "outputs": [],
   "source": [
    "# 可视化各层权重分布\n",
    "visualize_weight_distributions(model)"
   ]
  },
  {
   "cell_type": "markdown",
   "metadata": {},
   "source": [
    "### 9.3 权重范数分析"
   ]
  },
  {
   "cell_type": "code",
   "execution_count": null,
   "metadata": {},
   "outputs": [],
   "source": [
    "# 计算各层权重的范数\n",
    "w1_norm = np.linalg.norm(model.params['W1'], axis=0)\n",
    "w2_norm = np.linalg.norm(model.params['W2'], axis=0)\n",
    "w3_norm = np.linalg.norm(model.params['W3'], axis=0)\n",
    "\n",
    "# 绘制权重范数分布\n",
    "plt.figure(figsize=(15, 5))\n",
    "\n",
    "plt.subplot(1, 3, 1)\n",
    "plt.hist(w1_norm, bins=30)\n",
    "plt.title('第一层权重范数分布')\n",
    "plt.xlabel('范数值')\n",
    "plt.ylabel('频数')\n",
    "\n",
    "plt.subplot(1, 3, 2)\n",
    "plt.hist(w2_norm, bins=30)\n",
    "plt.title('第二层权重范数分布')\n",
    "plt.xlabel('范数值')\n",
    "\n",
    "plt.subplot(1, 3, 3)\n",
    "plt.hist(w3_norm, bins=30)\n",
    "plt.title('输出层权重范数分布')\n",
    "plt.xlabel('范数值')\n",
    "\n",
    "plt.tight_layout()\n",
    "plt.show()"
   ]
  },
  {
   "cell_type": "markdown",
   "metadata": {},
   "source": [
    "### 9.4 权重激活模式分析"
   ]
  },
  {
   "cell_type": "code",
   "execution_count": null,
   "metadata": {},
   "outputs": [],
   "source": [
    "# 分析第一层权重的激活模式\n",
    "# 选择一些测试样本\n",
    "sample_indices = np.random.choice(X_test.shape[0], 5)\n",
    "samples = X_test[sample_indices]\n",
    "\n",
    "# 计算第一层激活\n",
    "z1 = np.dot(samples, model.params['W1']) + model.params['b1']\n",
    "a1 = np.maximum(0, z1)  # ReLU激活\n",
    "\n",
    "# 计算每个样本激活的神经元数量\n",
    "active_neurons = (a1 > 0).sum(axis=1)\n",
    "\n",
    "# 显示结果\n",
    "for i, idx in enumerate(sample_indices):\n",
    "    print(f'样本 {i+1} (类别: {CIFAR10_CLASSES[y_test[idx]]}): 激活了 {active_neurons[i]} 个神经元 (占比: {active_neurons[i]/model.hidden_size1:.2f})')"
   ]
  },
  {
   "cell_type": "markdown",
   "metadata": {},
   "source": [
    "### 9.5 类别特定神经元分析"
   ]
  },
  {
   "cell_type": "code",
   "execution_count": null,
   "metadata": {},
   "outputs": [],
   "source": [
    "# 分析输出层权重，找出对每个类别最重要的隐藏层神经元\n",
    "output_weights = model.params['W3']  # 形状为 (hidden_size2, output_size)\n",
    "\n",
    "# 对于每个类别，找出权重最大的5个神经元\n",
    "plt.figure(figsize=(15, 8))\n",
    "\n",
    "for class_idx in range(10):\n",
    "    # 获取该类别的权重\n",
    "    class_weights = output_weights[:, class_idx]\n",
    "    \n",
    "    # 找出权重最大的5个神经元\n",
    "    top_neurons = np.argsort(class_weights)[-5:][::-1]\n",
    "    top_weights = class_weights[top_neurons]\n",
    "    \n",
    "    # 绘制结果\n",
    "    plt.subplot(2, 5, class_idx + 1)\n",
    "    plt.bar(range(5), top_weights)\n",
    "    plt.title(f'类别: {CIFAR10_CLASSES[class_idx]}')\n",
    "    plt.xlabel('神经元索引')\n",
    "    plt.ylabel('权重值')\n",
    "    plt.xticks(range(5), top_neurons)\n",
    "\n",
    "plt.tight_layout()\n",
    "plt.show()"
   ]
  },
  {
   "cell_type": "markdown",
   "metadata": {},
   "source": [
    "## 10. 实验结论\n",
    "\n",
    "通过本实验，我们成功实现了一个三层神经网络模型，并在CIFAR-10数据集上进行了训练和评估。主要结论如下：\n",
    "\n",
    "1. **模型性能**：模型在测试集上达到了一定的准确率，但仍有提升空间。不同类别的识别准确率存在差异，这可能与类别之间的相似性有关。\n",
    "\n",
    "2. **训练过程**：从损失曲线和准确率曲线可以看出，模型在训练过程中逐渐收敛，但在后期可能出现了过拟合现象。\n",
    "\n",
    "3. **参数分析**：\n",
    "   - 第一层权重可视化显示，模型学习到了一些基本的视觉特征，如边缘、纹理等。\n",
    "   - 权重分布呈现出近似正态分布的特性，这与权重初始化方法和正则化效果有关。\n",
    "   - 不同类别依赖于不同的隐藏层神经元，这反映了模型对不同类别特征的学习。\n",
    "\n",
    "4. **改进方向**：\n",
    "   - 增加网络深度和宽度，提高模型容量\n",
    "   - 尝试不同的优化器和学习率调度策略\n",
    "   - 引入更强的正则化方法，如Dropout\n",
    "   - 使用数据增强技术扩充训练集"
   ]
  }
 ],
 "metadata": {
  "kernelspec": {
   "display_name": "MyEnv",
   "language": "python",
   "name": "python3"
  },
  "language_info": {
   "codemirror_mode": {
    "name": "ipython",
    "version": 3
   },
   "file_extension": ".py",
   "mimetype": "text/x-python",
   "name": "python",
   "nbconvert_exporter": "python",
   "pygments_lexer": "ipython3",
   "version": "3.12.7"
  }
 },
 "nbformat": 4,
 "nbformat_minor": 4
}